{
 "cells": [
  {
   "cell_type": "markdown",
   "metadata": {},
   "source": [
    "## Imports"
   ]
  },
  {
   "cell_type": "code",
   "execution_count": 18,
   "metadata": {},
   "outputs": [],
   "source": [
    "import numpy as np\n",
    "import pandas as pd\n",
    "import seaborn as sns\n",
    "import matplotlib.pyplot as plt\n",
    "from sklearn.model_selection import train_test_split\n",
    "from sklearn.naive_bayes import GaussianNB\n",
    "from sklearn.preprocessing import LabelEncoder\n",
    "from sklearn.metrics import accuracy_score, confusion_matrix, classification_report\n"
   ]
  },
  {
   "cell_type": "code",
   "execution_count": 19,
   "metadata": {},
   "outputs": [],
   "source": [
    "data = pd.read_csv(\"student.csv\", index_col=0)\n",
    "\n",
    "df = pd.DataFrame(data)\n"
   ]
  },
  {
   "cell_type": "code",
   "execution_count": 20,
   "metadata": {},
   "outputs": [
    {
     "name": "stdout",
     "output_type": "stream",
     "text": [
      "           Id  Student_Age  Sex  High_School_Type  Scholarship  \\\n",
      "Index                                                            \n",
      "0      5001.0         21.0  0.0               2.0         50.0   \n",
      "1      5002.0         20.0  0.0               2.0         50.0   \n",
      "2      5003.0         21.0  0.0               1.0         50.0   \n",
      "3      5004.0         18.0  1.0               0.0         50.0   \n",
      "4      5005.0         22.0  0.0               0.0         50.0   \n",
      "\n",
      "       Additional_Work  Sports_activity  Transportation  Weekly_Study_Hours  \\\n",
      "Index                                                                         \n",
      "0                  1.0              0.0             0.0                 0.0   \n",
      "1                  1.0              0.0             0.0                 0.0   \n",
      "2                  0.0              0.0             0.0                 2.0   \n",
      "3                  1.0              0.0             1.0                 2.0   \n",
      "4                  0.0              0.0             1.0                12.0   \n",
      "\n",
      "       Attendance  Reading  Notes  Listening_in_Class  Project_work  Grade  \n",
      "Index                                                                       \n",
      "0             2.0      1.0    1.0                 0.0           0.0    7.0  \n",
      "1             2.0      1.0    0.0                 1.0           1.0    7.0  \n",
      "2             0.0      0.0    0.0                 0.0           1.0    7.0  \n",
      "3             2.0      0.0    1.0                 0.0           0.0    7.0  \n",
      "4             2.0      1.0    0.0                 1.0           1.0    7.0  \n"
     ]
    }
   ],
   "source": [
    "df['Scholarship'] = df['Scholarship'].replace('None', 0)\n",
    "df['Scholarship'] = df['Scholarship'].str.rstrip('%')\n",
    "# Definir diccionarios de mapeo para codificación ordinal\n",
    "\n",
    "sex_mapping = {'Male': 0, 'Female': 1}\n",
    "high_school_mapping = {'Private': 0, 'State': 1, 'Other': 2}\n",
    "additional_work_mapping = {'No': 0, 'Yes': 1}\n",
    "sports_activity_mapping = {'No': 0, 'Yes': 1}\n",
    "attendance_mapping = {'Always': 2, 'Sometimes': 1, 'Never': 0}\n",
    "reading_mapping = {'No': 0, 'Yes': 1}\n",
    "notes_mapping = {'No': 0, 'Yes': 1}\n",
    "listening_mapping = {'No': 0, 'Yes': 1}\n",
    "project_work_mapping = {'No': 0, 'Yes': 1}\n",
    "transportation_mapping = {'Private': 0, 'Bus': 1}   \n",
    "grade_mapping = {\n",
    "    'AA': 7,\n",
    "    'BA': 6,\n",
    "    'BB': 5,\n",
    "    'CB': 4,\n",
    "    'CC': 3,\n",
    "    'DC': 2,\n",
    "    'DD': 1,\n",
    "    'Fail': 0\n",
    "}\n",
    "\n",
    "\n",
    "\n",
    "# Aplicar codificación ordinal a las variables categóricas\n",
    "df['Sex'] = df['Sex'].map(sex_mapping)\n",
    "df['High_School_Type'] = df['High_School_Type'].map(high_school_mapping)\n",
    "df['Additional_Work'] = df['Additional_Work'].map(additional_work_mapping)\n",
    "df['Sports_activity'] = df['Sports_activity'].map(sports_activity_mapping)\n",
    "df['Attendance'] = df['Attendance'].map(attendance_mapping)\n",
    "df['Reading'] = df['Reading'].map(reading_mapping)\n",
    "df['Notes'] = df['Notes'].map(notes_mapping)\n",
    "df['Listening_in_Class'] = df['Listening_in_Class'].map(listening_mapping)\n",
    "df['Project_work'] = df['Project_work'].map(project_work_mapping)\n",
    "df['Transportation'] = df['Transportation'].map(transportation_mapping)\n",
    "df['Grade'] = df['Grade'].map(grade_mapping)\n",
    "\n",
    "# Convertir todas las columnas a tipo float\n",
    "df = df.astype(float)\n",
    "\n",
    "# Verificar el DataFrame con las variables categóricas codificadas como floats\n",
    "print(df.head())\n"
   ]
  },
  {
   "cell_type": "markdown",
   "metadata": {},
   "source": [
    "## EDA\n"
   ]
  },
  {
   "cell_type": "code",
   "execution_count": 21,
   "metadata": {},
   "outputs": [
    {
     "data": {
      "text/html": [
       "<div>\n",
       "<style scoped>\n",
       "    .dataframe tbody tr th:only-of-type {\n",
       "        vertical-align: middle;\n",
       "    }\n",
       "\n",
       "    .dataframe tbody tr th {\n",
       "        vertical-align: top;\n",
       "    }\n",
       "\n",
       "    .dataframe thead th {\n",
       "        text-align: right;\n",
       "    }\n",
       "</style>\n",
       "<table border=\"1\" class=\"dataframe\">\n",
       "  <thead>\n",
       "    <tr style=\"text-align: right;\">\n",
       "      <th></th>\n",
       "      <th>Id</th>\n",
       "      <th>Student_Age</th>\n",
       "      <th>Sex</th>\n",
       "      <th>High_School_Type</th>\n",
       "      <th>Scholarship</th>\n",
       "      <th>Additional_Work</th>\n",
       "      <th>Sports_activity</th>\n",
       "      <th>Transportation</th>\n",
       "      <th>Weekly_Study_Hours</th>\n",
       "      <th>Attendance</th>\n",
       "      <th>Reading</th>\n",
       "      <th>Notes</th>\n",
       "      <th>Listening_in_Class</th>\n",
       "      <th>Project_work</th>\n",
       "      <th>Grade</th>\n",
       "    </tr>\n",
       "    <tr>\n",
       "      <th>Index</th>\n",
       "      <th></th>\n",
       "      <th></th>\n",
       "      <th></th>\n",
       "      <th></th>\n",
       "      <th></th>\n",
       "      <th></th>\n",
       "      <th></th>\n",
       "      <th></th>\n",
       "      <th></th>\n",
       "      <th></th>\n",
       "      <th></th>\n",
       "      <th></th>\n",
       "      <th></th>\n",
       "      <th></th>\n",
       "      <th></th>\n",
       "    </tr>\n",
       "  </thead>\n",
       "  <tbody>\n",
       "    <tr>\n",
       "      <th>0</th>\n",
       "      <td>5001.0</td>\n",
       "      <td>21.0</td>\n",
       "      <td>0.0</td>\n",
       "      <td>2.0</td>\n",
       "      <td>50.0</td>\n",
       "      <td>1.0</td>\n",
       "      <td>0.0</td>\n",
       "      <td>0.0</td>\n",
       "      <td>0.0</td>\n",
       "      <td>2.0</td>\n",
       "      <td>1.0</td>\n",
       "      <td>1.0</td>\n",
       "      <td>0.0</td>\n",
       "      <td>0.0</td>\n",
       "      <td>7.0</td>\n",
       "    </tr>\n",
       "    <tr>\n",
       "      <th>1</th>\n",
       "      <td>5002.0</td>\n",
       "      <td>20.0</td>\n",
       "      <td>0.0</td>\n",
       "      <td>2.0</td>\n",
       "      <td>50.0</td>\n",
       "      <td>1.0</td>\n",
       "      <td>0.0</td>\n",
       "      <td>0.0</td>\n",
       "      <td>0.0</td>\n",
       "      <td>2.0</td>\n",
       "      <td>1.0</td>\n",
       "      <td>0.0</td>\n",
       "      <td>1.0</td>\n",
       "      <td>1.0</td>\n",
       "      <td>7.0</td>\n",
       "    </tr>\n",
       "    <tr>\n",
       "      <th>2</th>\n",
       "      <td>5003.0</td>\n",
       "      <td>21.0</td>\n",
       "      <td>0.0</td>\n",
       "      <td>1.0</td>\n",
       "      <td>50.0</td>\n",
       "      <td>0.0</td>\n",
       "      <td>0.0</td>\n",
       "      <td>0.0</td>\n",
       "      <td>2.0</td>\n",
       "      <td>0.0</td>\n",
       "      <td>0.0</td>\n",
       "      <td>0.0</td>\n",
       "      <td>0.0</td>\n",
       "      <td>1.0</td>\n",
       "      <td>7.0</td>\n",
       "    </tr>\n",
       "    <tr>\n",
       "      <th>3</th>\n",
       "      <td>5004.0</td>\n",
       "      <td>18.0</td>\n",
       "      <td>1.0</td>\n",
       "      <td>0.0</td>\n",
       "      <td>50.0</td>\n",
       "      <td>1.0</td>\n",
       "      <td>0.0</td>\n",
       "      <td>1.0</td>\n",
       "      <td>2.0</td>\n",
       "      <td>2.0</td>\n",
       "      <td>0.0</td>\n",
       "      <td>1.0</td>\n",
       "      <td>0.0</td>\n",
       "      <td>0.0</td>\n",
       "      <td>7.0</td>\n",
       "    </tr>\n",
       "    <tr>\n",
       "      <th>4</th>\n",
       "      <td>5005.0</td>\n",
       "      <td>22.0</td>\n",
       "      <td>0.0</td>\n",
       "      <td>0.0</td>\n",
       "      <td>50.0</td>\n",
       "      <td>0.0</td>\n",
       "      <td>0.0</td>\n",
       "      <td>1.0</td>\n",
       "      <td>12.0</td>\n",
       "      <td>2.0</td>\n",
       "      <td>1.0</td>\n",
       "      <td>0.0</td>\n",
       "      <td>1.0</td>\n",
       "      <td>1.0</td>\n",
       "      <td>7.0</td>\n",
       "    </tr>\n",
       "  </tbody>\n",
       "</table>\n",
       "</div>"
      ],
      "text/plain": [
       "           Id  Student_Age  Sex  High_School_Type  Scholarship  \\\n",
       "Index                                                            \n",
       "0      5001.0         21.0  0.0               2.0         50.0   \n",
       "1      5002.0         20.0  0.0               2.0         50.0   \n",
       "2      5003.0         21.0  0.0               1.0         50.0   \n",
       "3      5004.0         18.0  1.0               0.0         50.0   \n",
       "4      5005.0         22.0  0.0               0.0         50.0   \n",
       "\n",
       "       Additional_Work  Sports_activity  Transportation  Weekly_Study_Hours  \\\n",
       "Index                                                                         \n",
       "0                  1.0              0.0             0.0                 0.0   \n",
       "1                  1.0              0.0             0.0                 0.0   \n",
       "2                  0.0              0.0             0.0                 2.0   \n",
       "3                  1.0              0.0             1.0                 2.0   \n",
       "4                  0.0              0.0             1.0                12.0   \n",
       "\n",
       "       Attendance  Reading  Notes  Listening_in_Class  Project_work  Grade  \n",
       "Index                                                                       \n",
       "0             2.0      1.0    1.0                 0.0           0.0    7.0  \n",
       "1             2.0      1.0    0.0                 1.0           1.0    7.0  \n",
       "2             0.0      0.0    0.0                 0.0           1.0    7.0  \n",
       "3             2.0      0.0    1.0                 0.0           0.0    7.0  \n",
       "4             2.0      1.0    0.0                 1.0           1.0    7.0  "
      ]
     },
     "execution_count": 21,
     "metadata": {},
     "output_type": "execute_result"
    }
   ],
   "source": [
    "df.head()"
   ]
  },
  {
   "cell_type": "code",
   "execution_count": 22,
   "metadata": {},
   "outputs": [
    {
     "name": "stdout",
     "output_type": "stream",
     "text": [
      "La data tiene:  145  filas y  15  columnas\n"
     ]
    }
   ],
   "source": [
    "#Vemos estructura de datos.\n",
    "\n",
    "print(\"La data tiene: \", df.shape[0], \" filas y \", df.shape[1], \" columnas\")"
   ]
  },
  {
   "cell_type": "code",
   "execution_count": 23,
   "metadata": {},
   "outputs": [
    {
     "name": "stdout",
     "output_type": "stream",
     "text": [
      "<class 'pandas.core.frame.DataFrame'>\n",
      "Int64Index: 145 entries, 0 to 144\n",
      "Data columns (total 15 columns):\n",
      " #   Column              Non-Null Count  Dtype  \n",
      "---  ------              --------------  -----  \n",
      " 0   Id                  145 non-null    float64\n",
      " 1   Student_Age         145 non-null    float64\n",
      " 2   Sex                 145 non-null    float64\n",
      " 3   High_School_Type    145 non-null    float64\n",
      " 4   Scholarship         144 non-null    float64\n",
      " 5   Additional_Work     145 non-null    float64\n",
      " 6   Sports_activity     145 non-null    float64\n",
      " 7   Transportation      145 non-null    float64\n",
      " 8   Weekly_Study_Hours  145 non-null    float64\n",
      " 9   Attendance          144 non-null    float64\n",
      " 10  Reading             145 non-null    float64\n",
      " 11  Notes               143 non-null    float64\n",
      " 12  Listening_in_Class  144 non-null    float64\n",
      " 13  Project_work        145 non-null    float64\n",
      " 14  Grade               145 non-null    float64\n",
      "dtypes: float64(15)\n",
      "memory usage: 18.1 KB\n"
     ]
    }
   ],
   "source": [
    "df.info()"
   ]
  },
  {
   "cell_type": "code",
   "execution_count": 24,
   "metadata": {},
   "outputs": [
    {
     "name": "stdout",
     "output_type": "stream",
     "text": [
      "Hay  0  variables.\n",
      "Las variables categoricas son: \n",
      "****************************************************************************************************\n"
     ]
    }
   ],
   "source": [
    "categoricas = []\n",
    "\n",
    "for columna in df.columns:\n",
    "    if df[columna].dtype=='O':\n",
    "        categoricas.append(columna)\n",
    "        \n",
    "print(\"Hay \", len(categoricas), \" variables.\")\n",
    "\n",
    "\n",
    "print(\"Las variables categoricas son: \")\n",
    "print(\"*\"*100)\n",
    "for var in categoricas:\n",
    "    print(var)\n"
   ]
  },
  {
   "cell_type": "code",
   "execution_count": 25,
   "metadata": {},
   "outputs": [
    {
     "data": {
      "text/html": [
       "<div>\n",
       "<style scoped>\n",
       "    .dataframe tbody tr th:only-of-type {\n",
       "        vertical-align: middle;\n",
       "    }\n",
       "\n",
       "    .dataframe tbody tr th {\n",
       "        vertical-align: top;\n",
       "    }\n",
       "\n",
       "    .dataframe thead th {\n",
       "        text-align: right;\n",
       "    }\n",
       "</style>\n",
       "<table border=\"1\" class=\"dataframe\">\n",
       "  <thead>\n",
       "    <tr style=\"text-align: right;\">\n",
       "      <th></th>\n",
       "    </tr>\n",
       "    <tr>\n",
       "      <th>Index</th>\n",
       "    </tr>\n",
       "  </thead>\n",
       "  <tbody>\n",
       "    <tr>\n",
       "      <th>0</th>\n",
       "    </tr>\n",
       "    <tr>\n",
       "      <th>1</th>\n",
       "    </tr>\n",
       "    <tr>\n",
       "      <th>2</th>\n",
       "    </tr>\n",
       "    <tr>\n",
       "      <th>3</th>\n",
       "    </tr>\n",
       "    <tr>\n",
       "      <th>4</th>\n",
       "    </tr>\n",
       "  </tbody>\n",
       "</table>\n",
       "</div>"
      ],
      "text/plain": [
       "Empty DataFrame\n",
       "Columns: []\n",
       "Index: [0, 1, 2, 3, 4]"
      ]
     },
     "execution_count": 25,
     "metadata": {},
     "output_type": "execute_result"
    }
   ],
   "source": [
    "#Vemos los primeros registros de las categoricas:\n",
    "\n",
    "\n",
    "df[categoricas].head()"
   ]
  },
  {
   "cell_type": "code",
   "execution_count": 26,
   "metadata": {},
   "outputs": [
    {
     "data": {
      "text/plain": [
       "Series([], dtype: float64)"
      ]
     },
     "execution_count": 26,
     "metadata": {},
     "output_type": "execute_result"
    }
   ],
   "source": [
    "#Vemos si hay nulos:\n",
    "\n",
    "df[categoricas].isnull().sum()\n"
   ]
  },
  {
   "cell_type": "code",
   "execution_count": 27,
   "metadata": {},
   "outputs": [],
   "source": [
    "#Vemos la frecuencia de los valores\n",
    "\n",
    "for var in categoricas:\n",
    "    print(df[var].value_counts())\n",
    "    print(\"*\"* 35)\n"
   ]
  },
  {
   "cell_type": "code",
   "execution_count": 28,
   "metadata": {},
   "outputs": [],
   "source": [
    "#Vemos la frecuencia de los valores en porcentajes\n",
    "for var in categoricas:\n",
    "    counts = df[var].value_counts()\n",
    "    total = len(df)\n",
    "    porcentaje = counts / total * 100\n",
    "    print(porcentaje)\n",
    "    print('*' * 50)"
   ]
  },
  {
   "cell_type": "markdown",
   "metadata": {},
   "source": [
    "## Cardinalidad"
   ]
  },
  {
   "cell_type": "code",
   "execution_count": 29,
   "metadata": {},
   "outputs": [],
   "source": [
    "#Vemos la cardinalidad \n",
    "\n",
    "for var in categoricas:\n",
    "    print(var, ' tiene ', len(df[var].unique()), ' etiquetas')\n",
    "    \n",
    "#Ojo con native_country"
   ]
  },
  {
   "cell_type": "code",
   "execution_count": 31,
   "metadata": {},
   "outputs": [
    {
     "name": "stdout",
     "output_type": "stream",
     "text": [
      "Hay  15  variables.\n",
      "Las variables numericas son: \n",
      "****************************************************************************************************\n",
      "Id\n",
      "Student_Age\n",
      "Sex\n",
      "High_School_Type\n",
      "Scholarship\n",
      "Additional_Work\n",
      "Sports_activity\n",
      "Transportation\n",
      "Weekly_Study_Hours\n",
      "Attendance\n",
      "Reading\n",
      "Notes\n",
      "Listening_in_Class\n",
      "Project_work\n",
      "Grade\n"
     ]
    }
   ],
   "source": [
    "numericas = []\n",
    "\n",
    "for columna in df.columns:\n",
    "    if df[columna].dtype!='O':\n",
    "        numericas.append(columna)\n",
    "        \n",
    "print(\"Hay \", len(numericas), \" variables.\")\n",
    "\n",
    "\n",
    "print(\"Las variables numericas son: \")\n",
    "print(\"*\"*100)\n",
    "for var in numericas:\n",
    "    print(var)"
   ]
  },
  {
   "cell_type": "code",
   "execution_count": 32,
   "metadata": {},
   "outputs": [
    {
     "data": {
      "text/html": [
       "<div>\n",
       "<style scoped>\n",
       "    .dataframe tbody tr th:only-of-type {\n",
       "        vertical-align: middle;\n",
       "    }\n",
       "\n",
       "    .dataframe tbody tr th {\n",
       "        vertical-align: top;\n",
       "    }\n",
       "\n",
       "    .dataframe thead th {\n",
       "        text-align: right;\n",
       "    }\n",
       "</style>\n",
       "<table border=\"1\" class=\"dataframe\">\n",
       "  <thead>\n",
       "    <tr style=\"text-align: right;\">\n",
       "      <th></th>\n",
       "      <th>Id</th>\n",
       "      <th>Student_Age</th>\n",
       "      <th>Sex</th>\n",
       "      <th>High_School_Type</th>\n",
       "      <th>Scholarship</th>\n",
       "      <th>Additional_Work</th>\n",
       "      <th>Sports_activity</th>\n",
       "      <th>Transportation</th>\n",
       "      <th>Weekly_Study_Hours</th>\n",
       "      <th>Attendance</th>\n",
       "      <th>Reading</th>\n",
       "      <th>Notes</th>\n",
       "      <th>Listening_in_Class</th>\n",
       "      <th>Project_work</th>\n",
       "      <th>Grade</th>\n",
       "    </tr>\n",
       "    <tr>\n",
       "      <th>Index</th>\n",
       "      <th></th>\n",
       "      <th></th>\n",
       "      <th></th>\n",
       "      <th></th>\n",
       "      <th></th>\n",
       "      <th></th>\n",
       "      <th></th>\n",
       "      <th></th>\n",
       "      <th></th>\n",
       "      <th></th>\n",
       "      <th></th>\n",
       "      <th></th>\n",
       "      <th></th>\n",
       "      <th></th>\n",
       "      <th></th>\n",
       "    </tr>\n",
       "  </thead>\n",
       "  <tbody>\n",
       "    <tr>\n",
       "      <th>0</th>\n",
       "      <td>5001.0</td>\n",
       "      <td>21.0</td>\n",
       "      <td>0.0</td>\n",
       "      <td>2.0</td>\n",
       "      <td>50.0</td>\n",
       "      <td>1.0</td>\n",
       "      <td>0.0</td>\n",
       "      <td>0.0</td>\n",
       "      <td>0.0</td>\n",
       "      <td>2.0</td>\n",
       "      <td>1.0</td>\n",
       "      <td>1.0</td>\n",
       "      <td>0.0</td>\n",
       "      <td>0.0</td>\n",
       "      <td>7.0</td>\n",
       "    </tr>\n",
       "    <tr>\n",
       "      <th>1</th>\n",
       "      <td>5002.0</td>\n",
       "      <td>20.0</td>\n",
       "      <td>0.0</td>\n",
       "      <td>2.0</td>\n",
       "      <td>50.0</td>\n",
       "      <td>1.0</td>\n",
       "      <td>0.0</td>\n",
       "      <td>0.0</td>\n",
       "      <td>0.0</td>\n",
       "      <td>2.0</td>\n",
       "      <td>1.0</td>\n",
       "      <td>0.0</td>\n",
       "      <td>1.0</td>\n",
       "      <td>1.0</td>\n",
       "      <td>7.0</td>\n",
       "    </tr>\n",
       "    <tr>\n",
       "      <th>2</th>\n",
       "      <td>5003.0</td>\n",
       "      <td>21.0</td>\n",
       "      <td>0.0</td>\n",
       "      <td>1.0</td>\n",
       "      <td>50.0</td>\n",
       "      <td>0.0</td>\n",
       "      <td>0.0</td>\n",
       "      <td>0.0</td>\n",
       "      <td>2.0</td>\n",
       "      <td>0.0</td>\n",
       "      <td>0.0</td>\n",
       "      <td>0.0</td>\n",
       "      <td>0.0</td>\n",
       "      <td>1.0</td>\n",
       "      <td>7.0</td>\n",
       "    </tr>\n",
       "    <tr>\n",
       "      <th>3</th>\n",
       "      <td>5004.0</td>\n",
       "      <td>18.0</td>\n",
       "      <td>1.0</td>\n",
       "      <td>0.0</td>\n",
       "      <td>50.0</td>\n",
       "      <td>1.0</td>\n",
       "      <td>0.0</td>\n",
       "      <td>1.0</td>\n",
       "      <td>2.0</td>\n",
       "      <td>2.0</td>\n",
       "      <td>0.0</td>\n",
       "      <td>1.0</td>\n",
       "      <td>0.0</td>\n",
       "      <td>0.0</td>\n",
       "      <td>7.0</td>\n",
       "    </tr>\n",
       "    <tr>\n",
       "      <th>4</th>\n",
       "      <td>5005.0</td>\n",
       "      <td>22.0</td>\n",
       "      <td>0.0</td>\n",
       "      <td>0.0</td>\n",
       "      <td>50.0</td>\n",
       "      <td>0.0</td>\n",
       "      <td>0.0</td>\n",
       "      <td>1.0</td>\n",
       "      <td>12.0</td>\n",
       "      <td>2.0</td>\n",
       "      <td>1.0</td>\n",
       "      <td>0.0</td>\n",
       "      <td>1.0</td>\n",
       "      <td>1.0</td>\n",
       "      <td>7.0</td>\n",
       "    </tr>\n",
       "  </tbody>\n",
       "</table>\n",
       "</div>"
      ],
      "text/plain": [
       "           Id  Student_Age  Sex  High_School_Type  Scholarship  \\\n",
       "Index                                                            \n",
       "0      5001.0         21.0  0.0               2.0         50.0   \n",
       "1      5002.0         20.0  0.0               2.0         50.0   \n",
       "2      5003.0         21.0  0.0               1.0         50.0   \n",
       "3      5004.0         18.0  1.0               0.0         50.0   \n",
       "4      5005.0         22.0  0.0               0.0         50.0   \n",
       "\n",
       "       Additional_Work  Sports_activity  Transportation  Weekly_Study_Hours  \\\n",
       "Index                                                                         \n",
       "0                  1.0              0.0             0.0                 0.0   \n",
       "1                  1.0              0.0             0.0                 0.0   \n",
       "2                  0.0              0.0             0.0                 2.0   \n",
       "3                  1.0              0.0             1.0                 2.0   \n",
       "4                  0.0              0.0             1.0                12.0   \n",
       "\n",
       "       Attendance  Reading  Notes  Listening_in_Class  Project_work  Grade  \n",
       "Index                                                                       \n",
       "0             2.0      1.0    1.0                 0.0           0.0    7.0  \n",
       "1             2.0      1.0    0.0                 1.0           1.0    7.0  \n",
       "2             0.0      0.0    0.0                 0.0           1.0    7.0  \n",
       "3             2.0      0.0    1.0                 0.0           0.0    7.0  \n",
       "4             2.0      1.0    0.0                 1.0           1.0    7.0  "
      ]
     },
     "execution_count": 32,
     "metadata": {},
     "output_type": "execute_result"
    }
   ],
   "source": [
    "# Queremos ver como se mira el df solo con las numericas para ver si son discretas o continuas.\n",
    "\n",
    "\n",
    "df[numericas].head()\n",
    "\n",
    "#son numericas discretas"
   ]
  },
  {
   "cell_type": "code",
   "execution_count": 33,
   "metadata": {},
   "outputs": [
    {
     "data": {
      "text/plain": [
       "Id                    0\n",
       "Student_Age           0\n",
       "Sex                   0\n",
       "High_School_Type      0\n",
       "Scholarship           1\n",
       "Additional_Work       0\n",
       "Sports_activity       0\n",
       "Transportation        0\n",
       "Weekly_Study_Hours    0\n",
       "Attendance            1\n",
       "Reading               0\n",
       "Notes                 2\n",
       "Listening_in_Class    1\n",
       "Project_work          0\n",
       "Grade                 0\n",
       "dtype: int64"
      ]
     },
     "execution_count": 33,
     "metadata": {},
     "output_type": "execute_result"
    }
   ],
   "source": [
    "df[numericas].isnull().sum()"
   ]
  },
  {
   "cell_type": "markdown",
   "metadata": {},
   "source": [
    "## Naive Bayes"
   ]
  },
  {
   "cell_type": "code",
   "execution_count": 36,
   "metadata": {},
   "outputs": [
    {
     "name": "stdout",
     "output_type": "stream",
     "text": [
      "Precisión del modelo: 24.14%\n"
     ]
    }
   ],
   "source": [
    "# Crear un DataFrame con los datos proporcionados\n",
    "\n",
    "# Codificar variables categóricas\n",
    "label_encoders = {}\n",
    "categorical_columns = ['Sex', 'High_School_Type', 'Scholarship', 'Additional_Work', 'Sports_activity', 'Transportation', 'Attendance', 'Reading', 'Notes', 'Listening_in_Class', 'Project_work', 'Grade']\n",
    "\n",
    "for column in categorical_columns:\n",
    "\tlabel_encoders[column] = LabelEncoder()\n",
    "\tdf[column] = label_encoders[column].fit_transform(df[column])\n",
    "\n",
    "# Definir variables predictoras (X) y variable objetivo (y)\n",
    "X = df.drop(['Id', 'Grade'], axis=1)\n",
    "y = df['Grade']\n",
    "\n",
    "# Dividir el conjunto de datos en entrenamiento y prueba\n",
    "X_train, X_test, y_train, y_test = train_test_split(X, y, test_size=0.2, random_state=42)\n",
    "\n",
    "# Inicializar y entrenar el modelo Naive Bayes\n",
    "model = GaussianNB()\n",
    "model.fit(X_train, y_train)\n",
    "\n",
    "# Realizar predicciones en el conjunto de prueba\n",
    "y_pred = model.predict(X_test)\n",
    "\n",
    "# Calcular la precisión del modelo\n",
    "accuracy = accuracy_score(y_test, y_pred)\n",
    "print(f\"Precisión del modelo: {accuracy*100:_.2f}%\")"
   ]
  },
  {
   "cell_type": "markdown",
   "metadata": {},
   "source": [
    "## Matriz de Confusión"
   ]
  },
  {
   "cell_type": "code",
   "execution_count": 37,
   "metadata": {},
   "outputs": [
    {
     "data": {
      "image/png": "[encoded data removed]",
      "text/plain": [
       "<Figure size 800x600 with 2 Axes>"
      ]
     },
     "metadata": {},
     "output_type": "display_data"
    }
   ],
   "source": [
    "conf_matrix = confusion_matrix(y_test, y_pred)\n",
    "\n",
    "# Mostrar la matriz de confusión utilizando seaborn\n",
    "plt.figure(figsize=(8, 6))\n",
    "sns.heatmap(conf_matrix, annot=True, fmt=\"d\", cmap=\"Blues\", xticklabels=label_encoders['Grade'].classes_, yticklabels=label_encoders['Grade'].classes_)\n",
    "plt.xlabel('Predecido')\n",
    "plt.ylabel('Actual')\n",
    "plt.title('Matriz de Confusión')\n",
    "plt.show()"
   ]
  },
  {
   "cell_type": "markdown",
   "metadata": {},
   "source": [
    "## Overfitting"
   ]
  },
  {
   "cell_type": "code",
   "execution_count": 46,
   "metadata": {},
   "outputs": [
    {
     "name": "stdout",
     "output_type": "stream",
     "text": [
      "Precisión del modelo en el conjunto de prueba: 0.06206896551724138\n",
      "\n",
      "Reporte de Clasificación:\n",
      "              precision    recall  f1-score   support\n",
      "\n",
      "         0.0       0.00      0.00      0.00         8\n",
      "         1.0       0.00      0.00      0.00        17\n",
      "         2.0       0.00      0.00      0.00        13\n",
      "         3.0       0.00      0.00      0.00        17\n",
      "         4.0       0.06      0.90      0.12        10\n",
      "         5.0       0.00      0.00      0.00        21\n",
      "         6.0       0.00      0.00      0.00        24\n",
      "         7.0       0.00      0.00      0.00        35\n",
      "\n",
      "    accuracy                           0.06       145\n",
      "   macro avg       0.01      0.11      0.01       145\n",
      "weighted avg       0.00      0.06      0.01       145\n",
      "\n"
     ]
    }
   ],
   "source": [
    "# Leer los datos de prueba\n",
    "test_data = pd.read_csv('student.csv')\n",
    "\n",
    "# Reemplazar 'None' con 0 en la columna 'Scholarship'\n",
    "test_data['Scholarship'] = test_data['Scholarship'].replace('None', 0)\n",
    "\n",
    "# Eliminar el símbolo '%' en la columna 'Scholarship' y convertir a float\n",
    "test_data['Scholarship'] = test_data['Scholarship'].str.rstrip('%').astype(float)\n",
    "\n",
    "# Definir diccionarios de mapeo para codificación ordinal\n",
    "sex_mapping = {'Male': 0, 'Female': 1}\n",
    "high_school_mapping = {'Private': 0, 'State': 1, 'Other': 2}\n",
    "additional_work_mapping = {'No': 0, 'Yes': 1}\n",
    "sports_activity_mapping = {'No': 0, 'Yes': 1}\n",
    "attendance_mapping = {'Always': 2, 'Sometimes': 1, 'Never': 0}\n",
    "reading_mapping = {'No': 0, 'Yes': 1}\n",
    "notes_mapping = {'No': 0, 'Yes': 1}\n",
    "listening_mapping = {'No': 0, 'Yes': 1}\n",
    "project_work_mapping = {'No': 0, 'Yes': 1}\n",
    "transportation_mapping = {'Private': 0, 'Bus': 1}\n",
    "grade_mapping = {\n",
    "    'AA': 7, 'BA': 6, 'BB': 5, 'CB': 4,\n",
    "    'CC': 3, 'DC': 2, 'DD': 1, 'Fail': 0\n",
    "}\n",
    "\n",
    "# Aplicar codificación ordinal a las variables categóricas\n",
    "test_data['Sex'] = test_data['Sex'].map(sex_mapping)\n",
    "test_data['High_School_Type'] = test_data['High_School_Type'].map(high_school_mapping)\n",
    "test_data['Additional_Work'] = test_data['Additional_Work'].map(additional_work_mapping)\n",
    "test_data['Sports_activity'] = test_data['Sports_activity'].map(sports_activity_mapping)\n",
    "test_data['Attendance'] = test_data['Attendance'].map(attendance_mapping)\n",
    "test_data['Reading'] = test_data['Reading'].map(reading_mapping)\n",
    "test_data['Notes'] = test_data['Notes'].map(notes_mapping)\n",
    "test_data['Listening_in_Class'] = test_data['Listening_in_Class'].map(listening_mapping)\n",
    "test_data['Project_work'] = test_data['Project_work'].map(project_work_mapping)\n",
    "test_data['Transportation'] = test_data['Transportation'].map(transportation_mapping)\n",
    "test_data['Grade'] = test_data['Grade'].map(grade_mapping)\n",
    "\n",
    "# Reemplazar NaN con -1 en el DataFrame de prueba\n",
    "test_data.fillna(-1, inplace=True)\n",
    "\n",
    "# Convertir todas las columnas a tipo float\n",
    "test_data = test_data.astype(float)\n",
    "\n",
    "# Importar label_encoders y categorical_columns desde un código previo\n",
    "# Definir variables predictoras (X_test) y variable objetivo (Y_test)\n",
    "X_test = test_data.drop(['Index', 'Id', 'Grade'], axis=1)\n",
    "Y_test = test_data['Grade']\n",
    "\n",
    "# Realizar predicciones en el conjunto de prueba\n",
    "Y_pred_test = model.predict(X_test)\n",
    "\n",
    "# Calcular la precisión del modelo en el conjunto de prueba\n",
    "accuracy_test = accuracy_score(Y_test, Y_pred_test)\n",
    "print(\"Precisión del modelo en el conjunto de prueba:\", accuracy_test)\n",
    "\n",
    "# Mostrar el reporte de clasificación\n",
    "print(\"\\nReporte de Clasificación:\")\n",
    "print(classification_report(Y_test, Y_pred_test, zero_division=0))"
   ]
  },
  {
   "cell_type": "markdown",
   "metadata": {},
   "source": [
    "# "
   ]
  }
 ],
 "metadata": {
  "kernelspec": {
   "display_name": "Python 3 (ipykernel)",
   "language": "python",
   "name": "python3"
  },
  "language_info": {
   "codemirror_mode": {
    "name": "ipython",
    "version": 3
   },
   "file_extension": ".py",
   "mimetype": "text/x-python",
   "name": "python",
   "nbconvert_exporter": "python",
   "pygments_lexer": "ipython3",
   "version": "3.10.12"
  }
 },
 "nbformat": 4,
 "nbformat_minor": 4
}
